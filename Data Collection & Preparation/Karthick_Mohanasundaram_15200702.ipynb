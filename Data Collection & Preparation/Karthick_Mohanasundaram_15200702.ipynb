{
 "cells": [
  {
   "cell_type": "markdown",
   "metadata": {
    "collapsed": false
   },
   "source": [
    "# COMP41680 Assignment 1: Data Collection & Preparation\n"
   ]
  },
  {
   "cell_type": "markdown",
   "metadata": {},
   "source": [
    "## Student Name       :   Karthick Mohanasundaram\n",
    "## Student No.           :   15200702\n",
    "## Degree                   :   MSc Computer Science (NL)"
   ]
  },
  {
   "cell_type": "markdown",
   "metadata": {},
   "source": [
    "The objective of this assignment is to collect a dataset from one or more open web\n",
    "APIs of your choice, and use Python to pre-process and analyse the collected data. "
   ]
  },
  {
   "cell_type": "code",
   "execution_count": 36,
   "metadata": {
    "collapsed": false
   },
   "outputs": [],
   "source": [
    "import os\n",
    "import pandas as pd\n",
    "import json\n",
    "import simplejson\n",
    "import json\n",
    "import urllib.request\n",
    "import datetime\n",
    "import time as t\n",
    "import glob\n",
    "from time import gmtime, strftime\n",
    "from pprint import pprint\n",
    "from os.path import expanduser\n",
    "\n",
    "home = expanduser(\"~\") #Gets the home directory of the user (works on mac)\n",
    "dublinFolder = home+\"/Desktop/dublin/\"\n",
    "belfastFolder = home+\"/Desktop/belfast/\"\n",
    "os.makedirs(dublinFolder) #Creates folder with name 'dublin' in the home directory of user's Desktop (works on mac)\n",
    "os.makedirs(belfastFolder) #Creates folder with name 'belfast' in the home directory of user's Desktop (works on mac)"
   ]
  },
  {
   "cell_type": "code",
   "execution_count": 37,
   "metadata": {
    "collapsed": false
   },
   "outputs": [],
   "source": [
    "counter = 0 #Counter to track the total number of execution.\n",
    "def executeForEachOneHour():\n",
    "    global counter\n",
    "    counter += 1 #Will increment the counter by 1 \n",
    "    \n",
    "    \n",
    "    \n",
    "    \n",
    "    \n",
    "                                            #Task - 1\n",
    "#         Choose one or more open web APIs as your source of data. If you decide to use\n",
    "#                   more than one API, the APIs should be related in some way.\n",
    "    \n",
    "    #CityBikes API\n",
    "    #This API returns the real time citybikes data for every country in Europe which are owned by various companies.\n",
    "    #http://api.citybik.es/v2/networks\n",
    "    \n",
    "    \n",
    "    \n",
    "    #Returns the real time data for city bikes in Dublin and Belfast City\n",
    "    dublinUrl = \"http://api.citybik.es/v2/networks/dublinbikes\"\n",
    "    belfastUrl = \"http://api.citybik.es/v2/networks/belfastbikes-belfast\"\n",
    "    \n",
    "    \n",
    "    \n",
    "    \n",
    "                                            #Task - 2 \n",
    "#         Collect data from your chosen API(s) using Python. Your dataset should contain at\n",
    "#                         least 100 records/items in total\n",
    "    \n",
    "    \n",
    "    #Collecting the data\n",
    "    response = urllib.request.urlopen(dublinUrl)\n",
    "    raw_json = response.read().decode()\n",
    "    \n",
    "    #parsing the JSON data\n",
    "    data = json.loads(raw_json)\n",
    "    json_str = json.dumps(data)\n",
    "    jsondata = simplejson.dumps(data, indent=4, skipkeys=True, sort_keys=True)\n",
    "\n",
    "    #append the current system time at the end each file created every one hour starting at 10AM to 7 PM. \n",
    "    #Storing the data in json\n",
    "    time = strftime(\"%Y-%m-%d-%H:%M:%S\", gmtime())\n",
    "    Dublinfilename = \"DublinBikes\"+time+\".json\"\n",
    "\n",
    "    \n",
    "    \n",
    "    \n",
    "                                            #Task - 3\n",
    "    \n",
    "    #for this assignment data for city bikes in Dublin city was taken from 10 am to 7 pm on 22/3/2017\n",
    "    fd = open(dublinFolder+\"/\"+Dublinfilename, 'w')\n",
    "    fd.write(jsondata)\n",
    "    fd.close()\n",
    "    \n",
    "    \n",
    "    \n",
    "    #     ----------------------------------- Querying Belfast API-----------------------------------------# \n",
    "                                                #Belfast bikes\n",
    "    \n",
    "    \n",
    "    \n",
    "    \n",
    "    #Collecting the data\n",
    "    response = urllib.request.urlopen(belfastUrl)\n",
    "    raw_json = response.read().decode()\n",
    "    \n",
    "    #parsing the JSON data\n",
    "    data = json.loads(raw_json)\n",
    "    json_str = json.dumps(data)\n",
    "    jsondata = simplejson.dumps(data, indent=4, skipkeys=True, sort_keys=True)\n",
    "    \n",
    "    #append the current system time at the end each file created every one hour starting at 10AM to 7 PM. \n",
    "    #Storing the data in json\n",
    "    Belfastfilename = \"BelfastBikes\"+time+\".json\"\n",
    "    \n",
    "    #for this assignment data for city bikes in Belfast city was taken from 10 am to 7 pm on 22/3/2017\n",
    "    fd = open(belfastFolder+\"/\"+Belfastfilename, 'w')\n",
    "    fd.write(jsondata)\n",
    "    fd.close()\n",
    "    \n",
    "    #function will again be executed after 1 hour(3600 sec)\n",
    "    t.sleep(3600)\n",
    "\n",
    "while (counter <= 10):\n",
    "    executeForEachOneHour()"
   ]
  },
  {
   "cell_type": "code",
   "execution_count": 55,
   "metadata": {
    "collapsed": false
   },
   "outputs": [],
   "source": [
    "dublinBikesList = [];\n",
    "belfastBikesList = [];\n",
    "\n",
    "dublinFiles = (glob.glob(dublinFolder+\"*.json\")) #List of path all the files in the dublin directory\n",
    "belfastFiles = (glob.glob(belfastFolder+\"*.json\")) #List of path all the files in the belfast directory\n",
    "\n",
    "for f in dublinFiles:\n",
    "    fd = open(str(f), \"r\") #Convert the path into a string to avoid unicode decode error\n",
    "    text = fd.read()\n",
    "    fd.close()\n",
    "    dublinbike = json.loads(text)\n",
    "    dublinBikesList.append(dublinbike)\n",
    "    \n",
    "for f in belfastFiles:\n",
    "    fd = open(str(f), \"r\") #Convert the path into a string to avoid unicode decode error\n",
    "    text = fd.read()\n",
    "    fd.close()\n",
    "    belfastbike = json.loads(text)\n",
    "    belfastBikesList.append(belfastbike)"
   ]
  },
  {
   "cell_type": "code",
   "execution_count": 56,
   "metadata": {
    "collapsed": false
   },
   "outputs": [],
   "source": [
    "dublinDataFrame = [];\n",
    "belfastDataFrame = [];\n",
    "\n",
    "                                            #Task - 4\n",
    "    \n",
    "#filtering the required data and creating the dataframe\n",
    "for l in dublinBikesList:\n",
    "    \n",
    "    \n",
    "    #appending the dataframes to the \"dublinDataFrame\"\n",
    "    #this dataframe is used to retrieve data for specific street in dublin\n",
    "    dublinDataFrame.append(pd.DataFrame(l['network']['stations'], \n",
    "                                        columns = ['empty_slots','free_bikes','name','timestamp']))\n",
    "    \n",
    "for l in belfastBikesList:\n",
    "    \n",
    "    #appending the dataframes to the \"dublinDataFrame\"\n",
    "    belfastDataFrame.append(pd.DataFrame(l['network']['stations'], \n",
    "                                        columns = ['empty_slots','free_bikes','name','timestamp']))\n"
   ]
  },
  {
   "cell_type": "markdown",
   "metadata": {},
   "source": [
    "## ----------------- Filtering and Processing the data from the \"dublinDataFrame\" -----------------"
   ]
  },
  {
   "cell_type": "code",
   "execution_count": 57,
   "metadata": {
    "collapsed": false
   },
   "outputs": [],
   "source": [
    "DublinList = list();\n",
    "\n",
    "for df in dublinDataFrame:\n",
    "    \n",
    "    #filtering the row whose column \"name\" equals to \"PRINCES STREET / O'CONNELL STREET\"\n",
    "    ndf = (df[(df['name'] == \"PRINCES STREET / O'CONNELL STREET\")]).copy(deep=True)\n",
    "    \n",
    "    #converting object type of \"timestamp\" to \"datatime64[ns]\"\n",
    "    ndf['timestamp'] = ndf['timestamp'].astype('datetime64[ns]')\n",
    "    \n",
    "    #seperates time from timestamp and stores under the cloumn \"time\"\n",
    "    #new column \"time\" appendes ndf\n",
    "    ndf['time'] = ndf['timestamp'].dt.time\n",
    "    \n",
    "    #retrieve values of time, empty_slots and free_bikes from ndf and appends to \"dataf\"\n",
    "    DublinList.append(ndf[['time','empty_slots','free_bikes']])\n",
    "\n",
    "    \n",
    "\n",
    "#stores only the first data contained in \"DublinList\" \n",
    "dub = DublinList[0].copy(deep=True)\n",
    "\n",
    "\n",
    "\n",
    "\n",
    "for f in range(1,len(DublinList)):\n",
    "    \n",
    "    #appending the rest of the data contained in \"DublinList\" to DataFrame \"dub\"\n",
    "    dub = (dub.append(DublinList[f],ignore_index=True)).copy(deep=True)\n",
    "\n",
    "    \n",
    "    \n",
    "\n",
    "#convert object type to string\n",
    "dub['time'] = dub['time'].astype(str)\n",
    "\n",
    "#convert string type to datetime\n",
    "dub['time'] = pd.to_datetime(dub['time'])\n",
    "\n",
    "#retrieve the time from dateandtime type \"time\"\n",
    "dub['time'] = dub['time'].dt.time\n",
    "\n",
    "#set time as index\n",
    "dub.set_index(['time'],inplace=True)"
   ]
  },
  {
   "cell_type": "markdown",
   "metadata": {},
   "source": [
    "## ---------------- Filtering and Processing the data from the \"belfastDataFrame\" ----------------"
   ]
  },
  {
   "cell_type": "code",
   "execution_count": 58,
   "metadata": {
    "collapsed": true
   },
   "outputs": [],
   "source": [
    "BelfastList = list();\n",
    "\n",
    "for df in belfastDataFrame:\n",
    "    \n",
    "    #filtering the row whose column \"name\" equals to \"Titanic Belfast Met\"\n",
    "    ndf = (df[(df['name'] == \"Titanic Belfast Met\")]).copy(deep=True)\n",
    "    \n",
    "    #converting object type of \"timestamp\" to \"datatime64[ns]\"\n",
    "    ndf['timestamp'] = ndf['timestamp'].astype('datetime64[ns]')\n",
    "    \n",
    "    #seperates time from timestamp and stores under the cloumn \"time\"\n",
    "    #new column \"time\" appendes ndf\n",
    "    ndf['time'] = ndf['timestamp'].dt.time\n",
    "    BelfastList.append(ndf[['time','empty_slots','free_bikes']])\n",
    "\n",
    "    \n",
    "#stores only the first data contained in \"BelfastList\" \n",
    "bfs = BelfastList[0].copy(deep=True)\n",
    "\n",
    "\n",
    "for f in range(1,len(BelfastList)):\n",
    "    #appending the rest of the data contained in \"BelfastList\" to DataFrame \"dub\"\n",
    "    bfs = (bfs.append(BelfastList[f],ignore_index=True)).copy(deep=True)\n",
    "\n",
    "     \n",
    "\n",
    "#convert object type to string\n",
    "bfs['time'] = bfs['time'].astype(str)\n",
    "\n",
    "#convert string type to datetime\n",
    "bfs['time'] = pd.to_datetime(bfs['time'])\n",
    "\n",
    "#retrieve the time from dateandtime type \"time\"\n",
    "bfs['time'] = bfs['time'].dt.time\n",
    "\n",
    "#set time as index\n",
    "bfs.set_index(['time'],inplace=True)"
   ]
  },
  {
   "cell_type": "markdown",
   "metadata": {},
   "source": [
    "##        -------------------------- Final Pre - Processing the 'dub\"  DataFrame ------------------------"
   ]
  },
  {
   "cell_type": "code",
   "execution_count": 59,
   "metadata": {
    "collapsed": false
   },
   "outputs": [
    {
     "data": {
      "text/plain": [
       "empty_slots    0\n",
       "free_bikes     0\n",
       "dtype: int64"
      ]
     },
     "execution_count": 59,
     "metadata": {},
     "output_type": "execute_result"
    }
   ],
   "source": [
    "#look for missing data\n",
    "dub.isnull().sum() # no missing values in the reduced dataset "
   ]
  },
  {
   "cell_type": "code",
   "execution_count": 60,
   "metadata": {
    "collapsed": false
   },
   "outputs": [
    {
     "data": {
      "text/plain": [
       "int64    2\n",
       "dtype: int64"
      ]
     },
     "execution_count": 60,
     "metadata": {},
     "output_type": "execute_result"
    }
   ],
   "source": [
    "dub.dtypes.value_counts() "
   ]
  },
  {
   "cell_type": "code",
   "execution_count": 61,
   "metadata": {
    "collapsed": false
   },
   "outputs": [
    {
     "data": {
      "text/html": [
       "<div>\n",
       "<table border=\"1\" class=\"dataframe\">\n",
       "  <thead>\n",
       "    <tr style=\"text-align: right;\">\n",
       "      <th></th>\n",
       "      <th>empty_slots</th>\n",
       "      <th>free_bikes</th>\n",
       "    </tr>\n",
       "    <tr>\n",
       "      <th>time</th>\n",
       "      <th></th>\n",
       "      <th></th>\n",
       "    </tr>\n",
       "  </thead>\n",
       "  <tbody>\n",
       "    <tr>\n",
       "      <th>09:59:16.357000</th>\n",
       "      <td>8</td>\n",
       "      <td>14</td>\n",
       "    </tr>\n",
       "    <tr>\n",
       "      <th>11:47:54.574000</th>\n",
       "      <td>0</td>\n",
       "      <td>22</td>\n",
       "    </tr>\n",
       "    <tr>\n",
       "      <th>13:06:21.073000</th>\n",
       "      <td>1</td>\n",
       "      <td>22</td>\n",
       "    </tr>\n",
       "    <tr>\n",
       "      <th>14:06:42.057000</th>\n",
       "      <td>1</td>\n",
       "      <td>22</td>\n",
       "    </tr>\n",
       "    <tr>\n",
       "      <th>15:07:02.339000</th>\n",
       "      <td>6</td>\n",
       "      <td>17</td>\n",
       "    </tr>\n",
       "    <tr>\n",
       "      <th>16:10:24.021000</th>\n",
       "      <td>2</td>\n",
       "      <td>21</td>\n",
       "    </tr>\n",
       "    <tr>\n",
       "      <th>17:10:50.424000</th>\n",
       "      <td>0</td>\n",
       "      <td>23</td>\n",
       "    </tr>\n",
       "    <tr>\n",
       "      <th>18:20:10.726000</th>\n",
       "      <td>2</td>\n",
       "      <td>21</td>\n",
       "    </tr>\n",
       "    <tr>\n",
       "      <th>19:17:34.375000</th>\n",
       "      <td>0</td>\n",
       "      <td>23</td>\n",
       "    </tr>\n",
       "  </tbody>\n",
       "</table>\n",
       "</div>"
      ],
      "text/plain": [
       "                 empty_slots  free_bikes\n",
       "time                                    \n",
       "09:59:16.357000            8          14\n",
       "11:47:54.574000            0          22\n",
       "13:06:21.073000            1          22\n",
       "14:06:42.057000            1          22\n",
       "15:07:02.339000            6          17\n",
       "16:10:24.021000            2          21\n",
       "17:10:50.424000            0          23\n",
       "18:20:10.726000            2          21\n",
       "19:17:34.375000            0          23"
      ]
     },
     "execution_count": 61,
     "metadata": {},
     "output_type": "execute_result"
    }
   ],
   "source": [
    "dub[0:len(dub)]"
   ]
  },
  {
   "cell_type": "code",
   "execution_count": 62,
   "metadata": {
    "collapsed": false
   },
   "outputs": [
    {
     "name": "stdout",
     "output_type": "stream",
     "text": [
      "Descriptive Stats:\n",
      "\n",
      "       empty_slots  free_bikes\n",
      "count     9.000000    9.000000\n",
      "mean      2.222222   20.555556\n",
      "std       2.862594    3.045944\n",
      "min       0.000000   14.000000\n",
      "25%       0.000000   21.000000\n",
      "50%       1.000000   22.000000\n",
      "75%       2.000000   22.000000\n",
      "max       8.000000   23.000000\n"
     ]
    }
   ],
   "source": [
    "print(\"Descriptive Stats:\\n\")\n",
    "print(dub.describe())"
   ]
  },
  {
   "cell_type": "markdown",
   "metadata": {},
   "source": [
    "## ------------------------------ Final Pre - Processing the 'bfs\"  DataFrame -------------------------"
   ]
  },
  {
   "cell_type": "code",
   "execution_count": 63,
   "metadata": {
    "collapsed": false
   },
   "outputs": [
    {
     "data": {
      "text/plain": [
       "empty_slots    0\n",
       "free_bikes     0\n",
       "dtype: int64"
      ]
     },
     "execution_count": 63,
     "metadata": {},
     "output_type": "execute_result"
    }
   ],
   "source": [
    "#look for missing data\n",
    "bfs.isnull().sum() # no missing values in the reduced dataset"
   ]
  },
  {
   "cell_type": "code",
   "execution_count": 64,
   "metadata": {
    "collapsed": false
   },
   "outputs": [
    {
     "data": {
      "text/plain": [
       "int64    2\n",
       "dtype: int64"
      ]
     },
     "execution_count": 64,
     "metadata": {},
     "output_type": "execute_result"
    }
   ],
   "source": [
    "bfs.dtypes.value_counts() "
   ]
  },
  {
   "cell_type": "code",
   "execution_count": 65,
   "metadata": {
    "collapsed": false
   },
   "outputs": [
    {
     "data": {
      "text/html": [
       "<div>\n",
       "<table border=\"1\" class=\"dataframe\">\n",
       "  <thead>\n",
       "    <tr style=\"text-align: right;\">\n",
       "      <th></th>\n",
       "      <th>empty_slots</th>\n",
       "      <th>free_bikes</th>\n",
       "    </tr>\n",
       "    <tr>\n",
       "      <th>time</th>\n",
       "      <th></th>\n",
       "      <th></th>\n",
       "    </tr>\n",
       "  </thead>\n",
       "  <tbody>\n",
       "    <tr>\n",
       "      <th>10:00:35.610000</th>\n",
       "      <td>7</td>\n",
       "      <td>7</td>\n",
       "    </tr>\n",
       "    <tr>\n",
       "      <th>11:49:13.916000</th>\n",
       "      <td>4</td>\n",
       "      <td>7</td>\n",
       "    </tr>\n",
       "    <tr>\n",
       "      <th>13:07:33.640000</th>\n",
       "      <td>4</td>\n",
       "      <td>7</td>\n",
       "    </tr>\n",
       "    <tr>\n",
       "      <th>14:08:06.585000</th>\n",
       "      <td>2</td>\n",
       "      <td>7</td>\n",
       "    </tr>\n",
       "    <tr>\n",
       "      <th>15:08:19.900000</th>\n",
       "      <td>5</td>\n",
       "      <td>7</td>\n",
       "    </tr>\n",
       "    <tr>\n",
       "      <th>16:08:46.203000</th>\n",
       "      <td>2</td>\n",
       "      <td>7</td>\n",
       "    </tr>\n",
       "    <tr>\n",
       "      <th>17:12:11.833000</th>\n",
       "      <td>10</td>\n",
       "      <td>8</td>\n",
       "    </tr>\n",
       "    <tr>\n",
       "      <th>18:18:31.215000</th>\n",
       "      <td>2</td>\n",
       "      <td>7</td>\n",
       "    </tr>\n",
       "    <tr>\n",
       "      <th>19:18:54.095000</th>\n",
       "      <td>1</td>\n",
       "      <td>6</td>\n",
       "    </tr>\n",
       "  </tbody>\n",
       "</table>\n",
       "</div>"
      ],
      "text/plain": [
       "                 empty_slots  free_bikes\n",
       "time                                    \n",
       "10:00:35.610000            7           7\n",
       "11:49:13.916000            4           7\n",
       "13:07:33.640000            4           7\n",
       "14:08:06.585000            2           7\n",
       "15:08:19.900000            5           7\n",
       "16:08:46.203000            2           7\n",
       "17:12:11.833000           10           8\n",
       "18:18:31.215000            2           7\n",
       "19:18:54.095000            1           6"
      ]
     },
     "execution_count": 65,
     "metadata": {},
     "output_type": "execute_result"
    }
   ],
   "source": [
    "bfs[0:len(dub)]"
   ]
  },
  {
   "cell_type": "code",
   "execution_count": 66,
   "metadata": {
    "collapsed": false
   },
   "outputs": [
    {
     "name": "stdout",
     "output_type": "stream",
     "text": [
      "Descriptive Stats:\n",
      "\n",
      "       empty_slots  free_bikes\n",
      "count     9.000000         9.0\n",
      "mean      4.111111         7.0\n",
      "std       2.891559         0.5\n",
      "min       1.000000         6.0\n",
      "25%       2.000000         7.0\n",
      "50%       4.000000         7.0\n",
      "75%       5.000000         7.0\n",
      "max      10.000000         8.0\n"
     ]
    }
   ],
   "source": [
    "print(\"Descriptive Stats:\\n\")\n",
    "print(bfs.describe())"
   ]
  },
  {
   "cell_type": "markdown",
   "metadata": {},
   "source": [
    "# ------------------------------------- Task - 5 -------------------------------------------"
   ]
  },
  {
   "cell_type": "markdown",
   "metadata": {},
   "source": [
    "## ------------------------------ Matplotlib and Pandas Graphing --------------------------------------"
   ]
  },
  {
   "cell_type": "code",
   "execution_count": 67,
   "metadata": {
    "collapsed": false
   },
   "outputs": [
    {
     "name": "stdout",
     "output_type": "stream",
     "text": [
      "EMPTY SLOTES:- No. of slots which have no bikes to rent\n",
      "FREE BIKES:- No. of available bikes to rent\n"
     ]
    },
    {
     "data": {
      "text/plain": [
       "<matplotlib.axes._subplots.AxesSubplot at 0x1162410b8>"
      ]
     },
     "execution_count": 67,
     "metadata": {},
     "output_type": "execute_result"
    },
    {
     "data": {
      "image/png": "[encoded data removed]",
      "text/plain": [
       "<matplotlib.figure.Figure at 0x11510e940>"
      ]
     },
     "metadata": {},
     "output_type": "display_data"
    }
   ],
   "source": [
    "import matplotlib\n",
    "import matplotlib.pyplot as plt\n",
    "%matplotlib inline\n",
    "print(\"EMPTY SLOTES:- No. of slots which have no bikes to rent\")\n",
    "print(\"FREE BIKES:- No. of available bikes to rent\")\n",
    "dub.plot()"
   ]
  },
  {
   "cell_type": "markdown",
   "metadata": {},
   "source": [
    "The above graph describes the no. of free bikes (indicated by RED) and empty slots (indicated by BLUE) available between 10 a.m and 7 p.m in \"PRINCES STREET / O'CONNELL STREET, DUBLIN, at the bike shop - JCDecaux (company name).\"\n",
    "\n",
    "The graph indicates that from 10 a.m to 12 p.m there was a steady increase in returning of bikes but after 12 p.m until 2.30 p.m there was no renting or returning of bikes. From 2.30 p.m to 3 p.m, there was a sharp increase in the no. of rented bikes after which it reduced.\n",
    "\n",
    "It is very evident from the graph that the empty slots are inversely propertional to the bikes available."
   ]
  },
  {
   "cell_type": "code",
   "execution_count": 68,
   "metadata": {
    "collapsed": false
   },
   "outputs": [
    {
     "name": "stdout",
     "output_type": "stream",
     "text": [
      "EMPTY SLOTES:- No. of slots which have no bikes to rent\n",
      "FREE BIKES:- No. of available bikes to rent\n"
     ]
    },
    {
     "data": {
      "text/plain": [
       "<matplotlib.axes._subplots.AxesSubplot at 0x115072da0>"
      ]
     },
     "execution_count": 68,
     "metadata": {},
     "output_type": "execute_result"
    },
    {
     "data": {
      "image/png": "[encoded data removed]",
      "text/plain": [
       "<matplotlib.figure.Figure at 0x1168a9c88>"
      ]
     },
     "metadata": {},
     "output_type": "display_data"
    }
   ],
   "source": [
    "import matplotlib\n",
    "import matplotlib.pyplot as plt\n",
    "%matplotlib inline\n",
    "print(\"EMPTY SLOTES:- No. of slots which have no bikes to rent\")\n",
    "print(\"FREE BIKES:- No. of available bikes to rent\")\n",
    "bfs.plot()"
   ]
  },
  {
   "cell_type": "markdown",
   "metadata": {},
   "source": [
    "The above graph describes the no. of free bikes (indicated by RED) and empty slots (indicated by BLUE) available between 10 a.m and 7 p.m in \"Titanic Belfast Met, BELFAST, at the bike shop - Nextbike GmbH (company name).\"\n",
    "\n",
    "The graph indicates that from 10 a.m to 1.30 p.m there was a steady decrease in empty slots, indicating that people returned the rented bikes. From 3.30 p.m to 5 p.m, there was a steep spike indicating that the bikes had been rented by many people and almost everyone returned them by 6 p.m"
   ]
  },
  {
   "cell_type": "code",
   "execution_count": 69,
   "metadata": {
    "collapsed": false
   },
   "outputs": [
    {
     "name": "stdout",
     "output_type": "stream",
     "text": [
      "EMPTY SLOTES:- No. of slots which have no bikes to rent\n",
      "FREE BIKES:- No. of available bikes to rent\n"
     ]
    },
    {
     "data": {
      "image/png": "[encoded data removed]",
      "text/plain": [
       "<matplotlib.figure.Figure at 0x116afc438>"
      ]
     },
     "metadata": {},
     "output_type": "display_data"
    }
   ],
   "source": [
    "print(\"EMPTY SLOTES:- No. of slots which have no bikes to rent\")\n",
    "print(\"FREE BIKES:- No. of available bikes to rent\")\n",
    "dub.plot(subplots=True, figsize=(6, 6));"
   ]
  },
  {
   "cell_type": "markdown",
   "metadata": {},
   "source": [
    "The Dual Graph shows that the empty slots and free bikes in \"PRINCES STREET / O'CONNELL STREET, DUBLIN, from 10 a.m to 7 p.m are inversely propertional each other."
   ]
  },
  {
   "cell_type": "code",
   "execution_count": 70,
   "metadata": {
    "collapsed": false
   },
   "outputs": [
    {
     "name": "stdout",
     "output_type": "stream",
     "text": [
      "EMPTY SLOTES:- No. of slots which have no bikes to rent\n",
      "FREE BIKES:- No. of available bikes to rent\n"
     ]
    },
    {
     "data": {
      "image/png": "[encoded data removed]",
      "text/plain": [
       "<matplotlib.figure.Figure at 0x116183860>"
      ]
     },
     "metadata": {},
     "output_type": "display_data"
    }
   ],
   "source": [
    "print(\"EMPTY SLOTES:- No. of slots which have no bikes to rent\")\n",
    "print(\"FREE BIKES:- No. of available bikes to rent\")\n",
    "bfs.plot(subplots=True, figsize=(6, 6));"
   ]
  },
  {
   "cell_type": "markdown",
   "metadata": {},
   "source": [
    "The above dual graph indicates that the usage of bikes in TITANIC BELFAST MET is low as the no. of free bikes availability is constant at most of the time. "
   ]
  },
  {
   "cell_type": "markdown",
   "metadata": {},
   "source": [
    "### Comparison of no. of empty slots and free bikes between PRINCES STREET / O'CONNELL STREET and TITANIC BELFAST MET "
   ]
  },
  {
   "cell_type": "code",
   "execution_count": 71,
   "metadata": {
    "collapsed": false
   },
   "outputs": [
    {
     "data": {
      "text/plain": [
       "<matplotlib.axes._subplots.AxesSubplot at 0x115fb1860>"
      ]
     },
     "execution_count": 71,
     "metadata": {},
     "output_type": "execute_result"
    },
    {
     "data": {
      "image/png": "[encoded data removed]",
      "text/plain": [
       "<matplotlib.figure.Figure at 0x116b63668>"
      ]
     },
     "metadata": {},
     "output_type": "display_data"
    }
   ],
   "source": [
    "ax = dub.plot()\n",
    "bfs.plot(ax=ax)"
   ]
  },
  {
   "cell_type": "raw",
   "metadata": {},
   "source": [
    "                   STREETS                                EMPTY SLOTS              FREE BIKES\n",
    "\n",
    "DUBLIN   - PRINCES STREET / O'CONNELL STREET                BLUE                    ORANGE \n",
    "BELFAST  - TITANIC BELFAST MET                              GREEN                   RED"
   ]
  },
  {
   "cell_type": "markdown",
   "metadata": {},
   "source": [
    "             ----------------------------------- Analysis ----------------------------------"
   ]
  },
  {
   "cell_type": "markdown",
   "metadata": {},
   "source": [
    "In \"Dublin\", people frequently use bikes. Meanwhile, in \"Belfast\" the frequency of bike uasge is less because many people return bikes in evening"
   ]
  },
  {
   "cell_type": "markdown",
   "metadata": {},
   "source": [
    "Deliverables:\n",
    "    A single ZIP file containing code and all (or a sample of) data."
   ]
  }
 ],
 "metadata": {
  "kernelspec": {
   "display_name": "Python 3",
   "language": "python",
   "name": "python3"
  },
  "language_info": {
   "codemirror_mode": {
    "name": "ipython",
    "version": 3
   },
   "file_extension": ".py",
   "mimetype": "text/x-python",
   "name": "python",
   "nbconvert_exporter": "python",
   "pygments_lexer": "ipython3",
   "version": "3.6.0"
  }
 },
 "nbformat": 4,
 "nbformat_minor": 2
}
